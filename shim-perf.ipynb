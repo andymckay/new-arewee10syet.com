{
 "cells": [
  {
   "cell_type": "code",
   "execution_count": 1,
   "metadata": {
    "collapsed": false
   },
   "outputs": [
    {
     "name": "stderr",
     "output_type": "stream",
     "text": [
      "/home/hadoop/anaconda2/lib/python2.7/site-packages/matplotlib/font_manager.py:273: UserWarning: Matplotlib is building the font cache using fc-list. This may take a moment.\n",
      "  warnings.warn('Matplotlib is building the font cache using fc-list. This may take a moment.')\n"
     ]
    },
    {
     "name": "stdout",
     "output_type": "stream",
     "text": [
      "Unable to parse whitelist (/home/hadoop/anaconda2/lib/python2.7/site-packages/moztelemetry/histogram-whitelists.json). Assuming all histograms are acceptable.\n",
      "Populating the interactive namespace from numpy and matplotlib\n"
     ]
    }
   ],
   "source": [
    "import ujson as json\n",
    "import matplotlib.pyplot as plt\n",
    "import pandas as pd\n",
    "import numpy as np\n",
    "import plotly.plotly as py\n",
    "import urllib2\n",
    "import datetime\n",
    "import sys\n",
    "\n",
    "from moztelemetry.spark import get_pings, get_pings_properties\n",
    "import moztelemetry.spark\n",
    "\n",
    "%pylab inline\n",
    "\n",
    "from operator import add"
   ]
  },
  {
   "cell_type": "code",
   "execution_count": 2,
   "metadata": {
    "collapsed": false
   },
   "outputs": [
    {
     "data": {
      "text/plain": [
       "64"
      ]
     },
     "execution_count": 2,
     "metadata": {},
     "output_type": "execute_result"
    }
   ],
   "source": [
    "sc.defaultParallelism"
   ]
  },
  {
   "cell_type": "markdown",
   "metadata": {},
   "source": [
    "### Extract working dataset"
   ]
  },
  {
   "cell_type": "markdown",
   "metadata": {},
   "source": [
    "Collect nightly data from builds dated within a 2-week window."
   ]
  },
  {
   "cell_type": "code",
   "execution_count": 3,
   "metadata": {
    "collapsed": false
   },
   "outputs": [
    {
     "data": {
      "text/plain": [
       "('20160830', '20160913')"
      ]
     },
     "execution_count": 3,
     "metadata": {},
     "output_type": "execute_result"
    }
   ],
   "source": [
    "def fmt_date(d):\n",
    "    return d.strftime(\"%Y%m%d\")\n",
    "\n",
    "## Dates bounding the time window to look at.\n",
    "t1 = fmt_date(datetime.datetime.now() - datetime.timedelta(16)) # go back 16 days\n",
    "t2 = fmt_date(datetime.datetime.now() - datetime.timedelta(2)) # go back 2 days\n",
    "t1, t2"
   ]
  },
  {
   "cell_type": "code",
   "execution_count": 4,
   "metadata": {
    "collapsed": false
   },
   "outputs": [],
   "source": [
    "## Collect saved-session pings from build dates in the window.\n",
    "pings = get_pings(sc, app=\"Firefox\", channel=\"nightly\", build_id=(t1, t2), fraction=1.0)"
   ]
  },
  {
   "cell_type": "code",
   "execution_count": 10,
   "metadata": {
    "collapsed": false
   },
   "outputs": [],
   "source": [
    "def parseAddons(addons):\n",
    "    \"\"\" Create a list of enabled add-ons with elements of the form (ID, version). \"\"\"\n",
    "    return[(k, v.get(\"version\")) for k, v in addons.iteritems()]\n",
    "\n",
    "def extract(ping):\n",
    "    \"\"\" Extract relevant fields from each payload.\n",
    "    \n",
    "        shims: Reason why add-on shims were used, keyed by add-on ID (enumerated count of reason codes)\n",
    "        cpowTime: Contiguous time spent by an add-on blocking the main loop by performing a blocking\n",
    "                  cross-process call (microseconds, keyed by add-on ID).\n",
    "        cpowForbidden: Number of times an add-on used CPOWs when it was marked as e10s compatible\n",
    "                       (count, keyed by add-on ID).\n",
    "        addons: List of (ID, version) for each enabled add-on.\n",
    "    \"\"\"\n",
    "    hists = ping[\"payload\"].get(\"histograms\", {})\n",
    "    keyed = ping[\"payload\"].get(\"keyedHistograms\", {})\n",
    "    clientId = ping.get(\"clientId\", None)\n",
    "    return {\n",
    "        \"clientId\": ping.get(\"clientId\", None),\n",
    "        \"os\": ping[\"environment\"][\"system\"][\"os\"][\"name\"],\n",
    "        \"e10s\": ping[\"environment\"][\"settings\"][\"e10sEnabled\"],\n",
    "        \"sessionLength\": ping[\"payload\"][\"info\"][\"sessionLength\"], ## in seconds\n",
    "        \"shims\": keyed.get(\"ADDON_SHIM_USAGE\", {}),\n",
    "        \"cpowTime\": keyed.get(\"PERF_MONITORING_SLOW_ADDON_CPOW_US\", {}),\n",
    "        \"cpowForbidden\": keyed.get(\"ADDON_FORBIDDEN_CPOW_USAGE\", {}),\n",
    "        \"addons\": parseAddons(ping[\"environment\"].get(\"addons\", {}).get(\"activeAddons\", {}))\n",
    "    }\n",
    "\n",
    "## Extract relevant data, and restrict to clients that have add-ons.\n",
    "bySession = pings.map(extract)\\\n",
    "    .filter(lambda p: p[\"addons\"])\\\n",
    "    .persist(StorageLevel.MEMORY_AND_DISK_SER)"
   ]
  },
  {
   "cell_type": "markdown",
   "metadata": {},
   "source": [
    "How many session pings are in the dataset?"
   ]
  },
  {
   "cell_type": "code",
   "execution_count": 11,
   "metadata": {
    "collapsed": false
   },
   "outputs": [
    {
     "data": {
      "text/plain": [
       "913874"
      ]
     },
     "execution_count": 11,
     "metadata": {},
     "output_type": "execute_result"
    }
   ],
   "source": [
    "bySession.count()"
   ]
  },
  {
   "cell_type": "markdown",
   "metadata": {},
   "source": [
    "How many unique clients do these come from?"
   ]
  },
  {
   "cell_type": "code",
   "execution_count": 14,
   "metadata": {
    "collapsed": false
   },
   "outputs": [
    {
     "data": {
      "text/plain": [
       "53996"
      ]
     },
     "execution_count": 14,
     "metadata": {},
     "output_type": "execute_result"
    }
   ],
   "source": [
    "bySession.map(lambda p: p[\"clientId\"]).distinct().count()"
   ]
  },
  {
   "cell_type": "markdown",
   "metadata": {},
   "source": [
    "How many add-ons are represented in the dataset, and what are the top few?"
   ]
  },
  {
   "cell_type": "code",
   "execution_count": 15,
   "metadata": {
    "collapsed": false
   },
   "outputs": [
    {
     "data": {
      "text/plain": [
       "7260"
      ]
     },
     "execution_count": 15,
     "metadata": {},
     "output_type": "execute_result"
    }
   ],
   "source": [
    "addonCounts = bySession.flatMap(lambda p: [(guid, p[\"clientId\"]) for (guid, version) in p[\"addons\"]])\\\n",
    "    .distinct()\\\n",
    "    .map(lambda (guid, clientid): guid)\\\n",
    "    .countByValue()\n",
    "len(addonCounts)"
   ]
  },
  {
   "cell_type": "code",
   "execution_count": 16,
   "metadata": {
    "collapsed": false,
    "scrolled": true
   },
   "outputs": [
    {
     "data": {
      "text/plain": [
       "[(u'flyweb@mozilla.org', 53851),\n",
       " (u'webcompat@mozilla.org', 53813),\n",
       " (u'e10srollout@mozilla.org', 53746),\n",
       " (u'firefox@getpocket.com', 53582),\n",
       " (u'{d10d0bf8-f5b5-c8b4-a8b2-2b9879e08c5d}', 10730),\n",
       " (u'uBlock0@raymondhill.net', 4513),\n",
       " (u'{b9db16a4-6edc-47ec-a1f4-b86292ed211d}', 2605),\n",
       " (u'{e4a8a97b-f2ed-450b-b12d-ee082ba24781}', 2448),\n",
       " (u'{DDC359D1-844A-42a7-9AA1-88A850A938A8}', 1706),\n",
       " (u'{73a6fe31-595d-460b-a920-fcc0f8843232}', 1597),\n",
       " (u'firebug@software.joehewitt.com', 1497),\n",
       " (u'{46551EC9-40F0-4e47-8E18-8E5CF550CFB8}', 1337),\n",
       " (u'firefox@mega.co.nz', 1301),\n",
       " (u'firefox@ghostery.com', 1218),\n",
       " (u'{b9bfaf1c-a63f-47cd-8b9a-29526ced9060}', 1151),\n",
       " (u'adbhelper@mozilla.org', 1137),\n",
       " (u'fxdevtools-adapters@mozilla.org', 1106),\n",
       " (u'loop@mozilla.org', 1078),\n",
       " (u'wrc@avast.com', 1035),\n",
       " (u'support@lastpass.com', 1015)]"
      ]
     },
     "execution_count": 16,
     "metadata": {},
     "output_type": "execute_result"
    }
   ],
   "source": [
    "sorted(addonCounts.items(), key = lambda (guid, count): (-count, guid))[:20]"
   ]
  },
  {
   "cell_type": "markdown",
   "metadata": {},
   "source": [
    "### Shims"
   ]
  },
  {
   "cell_type": "markdown",
   "metadata": {},
   "source": [
    "Count enabled add-on installs (ID and version), together with whether or not they were observed to use shims.\n",
    "\n",
    "An add-on is counted as using shims if it has entry in the `ADDON_SHIM_USAGE` keyed histogram for at least one client (regardless of the values in the histogram). This histogram records shim usage occurrence by the [reason it was used](https://dxr.mozilla.org/mozilla-central/source/toolkit/components/addoncompat/CompatWarning.jsm#94)."
   ]
  },
  {
   "cell_type": "code",
   "execution_count": 17,
   "metadata": {
    "collapsed": true
   },
   "outputs": [],
   "source": [
    "## Summarize shim usage per add-on/client.\n",
    "## Reduce over multiple sessions observed for each client,\n",
    "## and flatten to ((ID, version), clientID, usedShims).\n",
    "\n",
    "def getShimData(d):\n",
    "    \"\"\" Summarize each add-on in the ping as (((ID, version), clientID), <used shims?>). \"\"\"\n",
    "    return [((addonv, d[\"clientId\"]), addonv[0] in d[\"shims\"]) for addonv in d[\"addons\"]]\n",
    "\n",
    "shimUsageByClient = bySession.flatMap(getShimData)\\\n",
    "    .reduceByKey(lambda a, b: a or b)\\\n",
    "    .map(lambda ((addon, clientId), usedShims): (addon, clientId, usedShims))"
   ]
  },
  {
   "cell_type": "code",
   "execution_count": 18,
   "metadata": {
    "collapsed": false
   },
   "outputs": [],
   "source": [
    "## Compute number of clients that used shims for each add-on.\n",
    "## Result is of the form ((ID, version), usedShims, # clients).\n",
    "\n",
    "shimUsageCounts = shimUsageByClient\\\n",
    "    .map(lambda (addon, clientId, usedShims): ((addon, usedShims), 1))\\\n",
    "    .reduceByKey(add)\\\n",
    "    .map(lambda ((addon, usedShims), count): (addon, usedShims, count))"
   ]
  },
  {
   "cell_type": "code",
   "execution_count": 20,
   "metadata": {
    "collapsed": false
   },
   "outputs": [],
   "source": [
    "## For each (add-on, version) pair, determine whether it ever used shims,\n",
    "## along with its overall installation count.\n",
    "\n",
    "shimUsageByAddon = shimUsageCounts\\\n",
    "    .map(lambda (addon, usedShims, count): (addon, (usedShims, count)))\\\n",
    "    .reduceByKey(lambda (s1, c1), (s2, c2): (s1 or s2, c1 + c2))\\\n",
    "    .map(lambda (addon, (usedShims, count)): (addon, usedShims, count))"
   ]
  },
  {
   "cell_type": "code",
   "execution_count": 21,
   "metadata": {
    "collapsed": false
   },
   "outputs": [],
   "source": [
    "## Order by decreasing installation count.\n",
    "## Only keep listing for (ID, version) pairs that were enabled in at least 50 profiles.\n",
    "\n",
    "shimUsageFiltered = shimUsageByAddon.filter(lambda v: v[-1] >= 50)\\\n",
    "    .sortBy(lambda v: (-v[-1], v[:-1]))\\\n",
    "    .collect()"
   ]
  },
  {
   "cell_type": "code",
   "execution_count": 22,
   "metadata": {
    "collapsed": false
   },
   "outputs": [],
   "source": [
    "## Add-ons the were found to use shims.\n",
    "\n",
    "shimUsageShimmed = filter(lambda (addon, usedShims, count): usedShims, shimUsageFiltered)"
   ]
  },
  {
   "cell_type": "markdown",
   "metadata": {},
   "source": [
    "How many add-ons had at least 50 enabled installations in our dataset?"
   ]
  },
  {
   "cell_type": "code",
   "execution_count": 23,
   "metadata": {
    "collapsed": false,
    "scrolled": true
   },
   "outputs": [
    {
     "data": {
      "text/plain": [
       "515"
      ]
     },
     "execution_count": 23,
     "metadata": {},
     "output_type": "execute_result"
    }
   ],
   "source": [
    "len(shimUsageFiltered)"
   ]
  },
  {
   "cell_type": "markdown",
   "metadata": {},
   "source": [
    "How many of these used shims?"
   ]
  },
  {
   "cell_type": "code",
   "execution_count": 24,
   "metadata": {
    "collapsed": false,
    "scrolled": true
   },
   "outputs": [
    {
     "data": {
      "text/plain": [
       "268"
      ]
     },
     "execution_count": 24,
     "metadata": {},
     "output_type": "execute_result"
    }
   ],
   "source": [
    "len(shimUsageShimmed)"
   ]
  },
  {
   "cell_type": "code",
   "execution_count": 25,
   "metadata": {
    "collapsed": false
   },
   "outputs": [],
   "source": [
    "def formatForJSON(d):\n",
    "    \"\"\" Write shim usage info to a JSON file.\n",
    "    \n",
    "        File will contain one big array with elements of the form\n",
    "        [<numInstallations>, [<GUID>, <version>], <usedShims>].\n",
    "    \"\"\"\n",
    "    return (d[-1],) + d[:-1]\n",
    "\n",
    "shimUsageOutput = map(lambda d: (d[-1],) + d[:-1], shimUsageFiltered)\n",
    "\n",
    "try:\n",
    "    output = open('output/shim-data.json', 'w')\n",
    "    json.dump(shimUsageOutput, output)\n",
    "    output.close()\n",
    "except:\n",
    "    pass\n",
    "\n",
    "try:\n",
    "    output = open('shim-data.json', 'w')\n",
    "    json.dump(shimUsageOutput, output)\n",
    "    output.close()\n",
    "except:\n",
    "    pass"
   ]
  },
  {
   "cell_type": "code",
   "execution_count": 26,
   "metadata": {
    "collapsed": false,
    "scrolled": true
   },
   "outputs": [
    {
     "data": {
      "text/plain": [
       "[((u'flyweb@mozilla.org', u'1.0.0'), False, 53851),\n",
       " ((u'webcompat@mozilla.org', u'1.0'), False, 53813),\n",
       " ((u'firefox@getpocket.com', u'1.0.4'), True, 53580),\n",
       " ((u'e10srollout@mozilla.org', u'1.2'), False, 50051),\n",
       " ((u'e10srollout@mozilla.org', u'1.0'), False, 29155),\n",
       " ((u'{d10d0bf8-f5b5-c8b4-a8b2-2b9879e08c5d}', u'2.7.3'), True, 10486),\n",
       " ((u'uBlock0@raymondhill.net', u'1.9.4'), True, 3708),\n",
       " ((u'uBlock0@raymondhill.net', u'1.9.6'), True, 3015),\n",
       " ((u'{b9db16a4-6edc-47ec-a1f4-b86292ed211d}', u'6.0.0'), True, 2488),\n",
       " ((u'{e4a8a97b-f2ed-450b-b12d-ee082ba24781}', u'3.9'), True, 2315),\n",
       " ((u'firebug@software.joehewitt.com', u'2.0.17'), False, 1362),\n",
       " ((u'{DDC359D1-844A-42a7-9AA1-88A850A938A8}', u'3.0.6'), False, 1333),\n",
       " ((u'{73a6fe31-595d-460b-a920-fcc0f8843232}', u'2.9.0.14'), True, 1295),\n",
       " ((u'{46551EC9-40F0-4e47-8E18-8E5CF550CFB8}', u'2.0.7'), False, 1266),\n",
       " ((u'firefox@ghostery.com', u'6.3.2'), True, 1175),\n",
       " ((u'adbhelper@mozilla.org', u'0.8.7'), False, 1129),\n",
       " ((u'fxdevtools-adapters@mozilla.org', u'0.3.5'), True, 1097),\n",
       " ((u'{b9bfaf1c-a63f-47cd-8b9a-29526ced9060}', u'1.8.8'), False, 1024),\n",
       " ((u'loop@mozilla.org', u'1.5.0'), False, 969),\n",
       " ((u'firefox@mega.co.nz', u'3.5.2'), True, 967),\n",
       " ((u'{19503e42-ca3c-4c27-b1e2-9cdb2170ee34}', u'1.5.6.13'), True, 915),\n",
       " ((u'@mozillawebvrenabler', u'0.5.0'), True, 902),\n",
       " ((u'firefox@mega.co.nz', u'3.5.3'), True, 883),\n",
       " ((u'{DDC359D1-844A-42a7-9AA1-88A850A938A8}', u'2.0.19'), True, 881),\n",
       " ((u'adblockpopups@jessehakanen.net', u'0.9.2.1-signed.1-signed'), True, 875),\n",
       " ((u'{DDC359D1-844A-42a7-9AA1-88A850A938A8}', u'3.0.5'), False, 853),\n",
       " ((u'feca4b87-3be4-43da-a1b1-137c24220968@jetpack', u'0.5.4'), True, 796),\n",
       " ((u'jid1-xUfzOsOFlzSOXg@jetpack', u'5.0.1'), True, 790),\n",
       " ((u'{b9bfaf1c-a63f-47cd-8b9a-29526ced9060}', u'1.8.7'), False, 780),\n",
       " ((u'artur.dubovoy@gmail.com', u'13.2.4'), True, 764),\n",
       " ((u'{1280606b-2510-4fe0-97ef-9b5a22eafe30}', u'0.8.1.12'), True, 750),\n",
       " ((u'@testpilot-addon', u'0.8.5-tag-2016-08-25-1'), True, 735),\n",
       " ((u'tabgroups@quicksaver', u'2.0.1'), True, 708),\n",
       " ((u'{1018e4d6-728f-4b20-ad56-37578a4de76b}', u'5.1.14'), True, 689),\n",
       " ((u'https-everywhere@eff.org', u'5.2.4'), False, 685),\n",
       " ((u'firefox@mega.co.nz', u'3.4.48'), True, 667),\n",
       " ((u'{dc572301-7619-498c-a57d-39143191b318}', u'0.5.0.0'), False, 656),\n",
       " ((u'https-everywhere@eff.org', u'5.2.3'), True, 649),\n",
       " ((u'support@lastpass.com', u'3.3.1'), True, 641),\n",
       " ((u'wrc@avast.com', u'12.0.88'), True, 635),\n",
       " ((u'www.facebook.com@services.mozilla.org', u'2'), False, 613),\n",
       " ((u'{e968fc70-8f95-4ab9-9e79-304de2a71ee1}', u'0.7.3.1-signed.1-signed'),\n",
       "  False,\n",
       "  584),\n",
       " ((u'elemhidehelper@adblockplus.org', u'1.3.9'), True, 583),\n",
       " ((u'jid1-xUfzOsOFlzSOXg@jetpack', u'4.6.1'), True, 572),\n",
       " ((u'sp@avast.com', u'10.3.5.39'), True, 567),\n",
       " ((u'ClassicThemeRestorer@ArisT2Noia4dev', u'1.5.6'), True, 556),\n",
       " ((u'translator@zoli.bod', u'2.1.0.5.1.1-signed'), True, 533),\n",
       " ((u'{a0d7ccb3-214d-498b-b4aa-0e8fda9a7bf7}', u'20151208'), True, 533),\n",
       " ((u'jid1-xUfzOsOFlzSOXg@jetpack', u'5.0.0'), True, 532),\n",
       " ((u'firegestures@xuldev.org', u'1.10.13'), True, 517),\n",
       " ((u'ubufox@ubuntu.com', u'3.2'), False, 479),\n",
       " ((u'YoutubeDownloader@PeterOlayev.com', u'2.4.1'), True, 476),\n",
       " ((u'https-everywhere-eff@eff.org', u'5.2.4'), False, 475),\n",
       " ((u'{bee6eb20-01e0-ebd1-da83-080329fb9a3a}', u'1.86'), True, 474),\n",
       " ((u'helper-sig@savefrom.net', u'6.60'), False, 467),\n",
       " ((u'{7b1bf0b6-a1b9-42b0-b75d-252036438bdc}', u'48.1'), True, 465),\n",
       " ((u'{2b10c1c8-a11f-4bad-fe9c-1c11e82cac42}', u'0.9.5.0.1-let-fixed'),\n",
       "  True,\n",
       "  460),\n",
       " ((u'jid0-9XfBwUWnvPx4wWsfBWMCm4Jj69E@jetpack', u'0.4.10'), True, 436),\n",
       " ((u'{c45c406e-ab73-11d8-be73-000a95be3b12}', u'1.2.11'), True, 435),\n",
       " ((u'2.0@disconnect.me', u'3.15.3.1-signed.1-signed'), True, 429),\n",
       " ((u'wrc@avast.com', u'10.3.3.44'), True, 428),\n",
       " ((u'wayback_machine@mozilla.org', u'1.5.6'), False, 423),\n",
       " ((u'{8620c15f-30dc-4dba-a131-7c5d20cf4a29}', u'3.8'), True, 423),\n",
       " ((u'{a7c6cf7f-112c-4500-a7ea-39801a327e5f}', u'2.0.28'), True, 421),\n",
       " ((u'{5384767E-00D9-40E9-B72F-9CC39D655D6F}', u'1.5.0.9'), False, 391),\n",
       " ((u'SQLiteManager@mrinalkant.blogspot.com', u'0.8.3.1-signed.1-signed'),\n",
       "  False,\n",
       "  388),\n",
       " ((u'jid0-GXjLLfbCoAx0LcltEdFrEkQdQPI@jetpack', u'3.0.11'), True, 385),\n",
       " ((u's3google@translator', u'5.25'), True, 365),\n",
       " ((u'{d40f5e7b-d2cf-4856-b441-cc613eeffbe3}', u'1.74'), True, 364),\n",
       " ((u'sovetnik@metabar.ru', u'3.1.4.90'), True, 361),\n",
       " ((u'jid1-q4sG8pYhq8KGHs@jetpack', u'0.2.2'), True, 358),\n",
       " ((u'abs@avira.com', u'1.11.0.828.0'), True, 357),\n",
       " ((u'support@lastpass.com', u'4.1.29a'), False, 350),\n",
       " ((u'adblockultimate@adblockultimate.net', u'2.23'), True, 346),\n",
       " ((u'{E6C1199F-E687-42da-8C24-E7770CC3AE66}', u'2.1.0'), False, 321),\n",
       " ((u'{6c28e999-e900-4635-a39d-b1ec90ba0c0f}', u'14.0.0.0'), False, 318),\n",
       " ((u'info@youtube-mp3.org', u'1.0.9.1-signed.1-signed'), True, 312),\n",
       " ((u'https-everywhere-eff@eff.org', u'5.2.3'), False, 311),\n",
       " ((u'personas@christopher.beard', u'1.8.0'), False, 309),\n",
       " ((u'{f3bd3dd2-2888-44c5-91a2-2caeb33fb898}', u'48.1'), True, 307),\n",
       " ((u'compatibility@addons.mozilla.org', u'2.2.0'), True, 306),\n",
       " ((u'{7b1bf0b6-a1b9-42b0-b75d-252036438bdc}', u'48.2'), True, 302),\n",
       " ((u'{4ED1F68A-5463-4931-9384-8FFF5ED91D92}', u'5.0.226.0'), True, 301),\n",
       " ((u'foxyproxy@eric.h.jung', u'4.5.7'), False, 300),\n",
       " ((u'e67f8350-7edf-11e3-baa7-0800200c9a66@fri-gate.org', u'2.2.1.1-signed'),\n",
       "  True,\n",
       "  298),\n",
       " ((u'foxmarks@kei.com', u'4.3.19'), True, 298),\n",
       " ((u'www.tumblr.com@services.mozilla.org', u'1'), False, 293),\n",
       " ((u'jid1-F9UJ2thwoAm5gQ@jetpack', u'1.3.1'), True, 291),\n",
       " ((u'jid1-HAV2inXAnQPIeA@jetpack', u'1.7.0'), False, 287),\n",
       " ((u'abs@avira.com', u'1.12.0.9060'), True, 285),\n",
       " ((u'@activity-streams', u'1.1.3'), True, 278),\n",
       " ((u'mail.google.com@services.mozilla.org', u'1'), False, 276),\n",
       " ((u'twitter.com@services.mozilla.org', u'1'), False, 276),\n",
       " ((u'{DDC359D1-844A-42a7-9AA1-88A850A938A8}', u'3.0.2'), False, 276),\n",
       " ((u'firefox@zenmate.com', u'5.7.0'), True, 275),\n",
       " ((u'tabcentertest1@mozilla.com', u'1.24.0'), True, 272),\n",
       " ((u'{b9acf540-acba-11e1-8ccb-001fd0e08bd4}', u'9.09'), True, 271),\n",
       " ((u'{C1A2A613-35F1-4FCF-B27F-2840527B6556}', u'2016.7.0.62'), True, 269),\n",
       " ((u'compatibility@addons.mozilla.org', u'2.2.1'), False, 268),\n",
       " ((u'www.linkedin.com@services.mozilla.org', u'1'), False, 268),\n",
       " ((u'mg.mail.yahoo.com@services.mozilla.org', u'1'), False, 265),\n",
       " ((u'jid1-MnnxcxisBPnSXQ@jetpack', u'1.8.1'), True, 264),\n",
       " ((u'jid1-ZAdIEUB7XOzOJw@jetpack', u'0.5.8'), True, 264),\n",
       " ((u'netvideohunter@netvideohunter.com', u'1.20'), True, 264),\n",
       " ((u'easyscreenshot@mozillaonline.com', u'1.2.8'), True, 261),\n",
       " ((u'{73a6fe31-595d-460b-a920-fcc0f8843232}', u'2.9.0.14rc1'), True, 258),\n",
       " ((u'adguardadblocker@adguard.com', u'2.3.8'), True, 257),\n",
       " ((u'firefox@betterttv.net', u'6.8.5'), False, 257),\n",
       " ((u'jid1-BoFifL9Vbdl2zQ@jetpack', u'1.3.5'), True, 243),\n",
       " ((u'{fe272bd1-5f76-4ea4-8501-a05d35d823fc}',\n",
       "   u'2.1.9.1-signed.1-let-fixed.1-signed'),\n",
       "  True,\n",
       "  243),\n",
       " ((u'treestyletab@piro.sakura.ne.jp', u'0.17.2016061501'), False, 240),\n",
       " ((u'onepassword4@agilebits.com', u'4.5.9'), True, 239),\n",
       " ((u'jsonview@brh.numbera.com', u'1.1.1'), True, 236),\n",
       " ((u'jid1-BYcQOfYfmBMd9A@jetpack', u'316'), True, 235),\n",
       " ((u'inspector@mozilla.org', u'2.0.16.1-signed'), True, 234),\n",
       " ((u'ffext_basicvideoext@startpage24', u'1.97.37.1-signed.1-signed'),\n",
       "  True,\n",
       "  233),\n",
       " ((u'{B17C1C5A-04B1-11DB-9804-B622A1EF5492}', u'1.3.2'), False, 233),\n",
       " ((u'{bb6bc1bb-f824-4702-90cd-35e2fb24f25d}', u'1.13'), True, 233),\n",
       " ((u'uMatrix@raymondhill.net', u'0.9.3.6'), True, 232),\n",
       " ((u'{E0B8C461-F8FB-49b4-8373-FE32E9252800}', u'6.2.0'), True, 229),\n",
       " ((u'jid1-7NbXi2AqS1oUFw@jetpack', u'0.2.9'), True, 225),\n",
       " ((u'{3d7eb24f-2740-49df-8937-200b1cc08f8a}', u'1.5.20'), True, 220),\n",
       " ((u'anttoolbar@ant.com', u'2.4.7.43'), True, 217),\n",
       " ((u'support@lastpass.com', u'4.1.26a'), False, 215),\n",
       " ((u'thefoxonlybetter@quicksaver', u'1.4.6'), False, 212),\n",
       " ((u'{64161300-e22b-11db-8314-0800200c9a66}', u'0.9.6.18'), True, 211),\n",
       " ((u'ich@maltegoetz.de', u'2.2.2'), False, 207),\n",
       " ((u'{b9acf540-acba-11e1-8ccb-001fd0e08bd4}', u'9.08'), False, 207),\n",
       " ((u'{dc572301-7619-498c-a57d-39143191b318}', u'0.5.0.1pre.160904a1'),\n",
       "  False,\n",
       "  207),\n",
       " ((u'twitter.com@services.mozilla.org', u''), False, 206),\n",
       " ((u'{dc572301-7619-498c-a57d-39143191b318}', u'0.5.0.1pre.160625a1'),\n",
       "  False,\n",
       "  205),\n",
       " ((u'{6AC85730-7D0F-4de0-B3FA-21142DD85326}', u'2.8.2'), True, 204),\n",
       " ((u'light_plugin_F6F079488B53499DB99380A7E11A93F6@kaspersky.com',\n",
       "   u'5.0.130-0-20160620125320'),\n",
       "  True,\n",
       "  202),\n",
       " ((u'treestyletab@piro.sakura.ne.jp', u'0.18.2016090802'), False, 202),\n",
       " ((u'privateTab@infocatcher', u'0.2.0'), False, 201),\n",
       " ((u'search@mail.ru', u'1.0.7'), False, 198),\n",
       " ((u'status4evar@caligonstudios.com', u'2015.11.16.23.1-signed.1-let-fixed'),\n",
       "  True,\n",
       "  198),\n",
       " ((u'vb@yandex.ru', u'2.29.1'), True, 198),\n",
       " ((u'{8f8fe09b-0bd3-4470-bc1b-8cad42b8203a}', u'0.17.1-signed.1-signed'),\n",
       "  False,\n",
       "  198),\n",
       " ((u'{0545b830-f0aa-4d7e-8820-50a4629a56fe}', u'31.0.7'), True, 197),\n",
       " ((u'{7b8a500a-a464-4624-bd4f-73eaafe0f766}', u'3.0'), True, 197),\n",
       " ((u'{ad0d925d-88f8-47f1-85ea-8463569e756e}', u'2.0.5'), False, 197),\n",
       " ((u'savedpasswordeditor@daniel.dawson', u'2.10'), False, 193),\n",
       " ((u'{a38384b3-2d1d-4f36-bc22-0f7ae402bcd7}', u'1.0.0.51'), False, 193),\n",
       " ((u'homepage@mail.ru', u'1.0.2'), False, 192),\n",
       " ((u'jid1-qj0w91o64N7Eeg@jetpack', u'3.0.3'), True, 189),\n",
       " ((u'privateTab@infocatcher', u'0.1.9.1'), False, 189),\n",
       " ((u'@testpilot-addon', u'0.8.5-tag-2016-09-12'), False, 187),\n",
       " ((u'client@anonymox.net', u'2.5.2'), False, 186),\n",
       " ((u'{1BC9BA34-1EED-42ca-A505-6D2F1A935BBB}', u'6.2.18.1'), True, 186),\n",
       " ((u'acewebextension_unlisted@acestream.org', u'1.0.2'), True, 185),\n",
       " ((u'{c36177c0-224a-11da-8cd6-0800200c9a91}', u'3.9.85.1-signed.1-signed'),\n",
       "  True,\n",
       "  185),\n",
       " ((u'firefox@mega.co.nz', u'3.5.4'), True, 183),\n",
       " ((u'vb@yandex.ru', u'2.30.2'), True, 182),\n",
       " ((u'@activity-streams', u'1.1.2'), False, 180),\n",
       " ((u'Chrome-Store-Foxified@jetpack', u'2.3'), False, 179),\n",
       " ((u'{de71f09a-3342-48c5-95c1-4b0f17567554}', u'1.0'), True, 178),\n",
       " ((u'{81BF1D23-5F17-408D-AC6B-BD6DF7CAF670}', u'9.0.3'), False, 177),\n",
       " ((u'Restart@schuzak.jp', u'1.2.8'), False, 176),\n",
       " ((u'plus.google.com@services.mozilla.org', u''), False, 176),\n",
       " ((u'uBlock0@raymondhill.net', u'1.8.4'), False, 176),\n",
       " ((u'{4BBDD651-70CF-4821-84F8-2B918CF89CA3}', u'8.9.2'), True, 176),\n",
       " ((u'anticontainer@downthemall.net', u'1.5'), False, 175),\n",
       " ((u'jid0-XWJxt5VvCXkKzQK99PhZqAn7Xbg@jetpack', u'1.5.4'), False, 174),\n",
       " ((u'the-addon-bar@GeekInTraining-GiT', u'3.2.9-compat-fixed-4'), False, 174),\n",
       " ((u'jid0-GjwrPchS3Ugt7xydvqVK4DQk8Ls@jetpack', u'0.6.5'), True, 172),\n",
       " ((u'{59c81df5-4b7a-477b-912d-4e0fdf64e5f2}', u'0.9.92'), False, 172),\n",
       " ((u'{de71f09a-3342-48c5-95c1-4b0f17567554}', u'1.1'), True, 171),\n",
       " ((u'{6d96bb5e-1175-4ebf-8ab5-5f56f1c79f65}', u'0.9.8'), False, 168),\n",
       " ((u'foxyproxy@eric.h.jung', u'4.5.6'), True, 167),\n",
       " ((u'light_plugin_ACF0E80077C511E59DED005056C00008@kaspersky.com', u'4.6.3-9'),\n",
       "  True,\n",
       "  167),\n",
       " ((u'nimbusscreencaptureff@everhelper.me', u'9.1.1'), True, 167),\n",
       " ((u'yasearch@yandex.ru', u'8.20.1'), True, 165),\n",
       " ((u'{DDC359D1-844A-42a7-9AA1-88A850A938A8}', u'3.0.3'), False, 165),\n",
       " ((u'jid1-Xo5SuA6qc1DFpw@jetpack', u'1.2.0'), True, 164),\n",
       " ((u'jid1-YcMV6ngYmQRA2w@jetpack', u'1.37.9'), True, 164),\n",
       " ((u'{9c51bd27-6ed8-4000-a2bf-36cb95c0c947}', u'11.0.1.1-signed.1-signed'),\n",
       "  True,\n",
       "  164),\n",
       " ((u'cehomepage@mozillaonline.com', u'1.48'), True, 161),\n",
       " ((u'{bee6eb20-01e0-ebd1-da83-080329fb9a3a}', u'2.0'), False, 161),\n",
       " ((u'check-compatibility@dactyl.googlecode.com', u'1.3.1-signed.1-signed'),\n",
       "  False,\n",
       "  154),\n",
       " ((u'helper@savefrom.net', u'6.20'), False, 154),\n",
       " ((u'{888d99e7-e8b5-46a3-851e-1ec45da1e644}', u'45.0.0'), True, 154),\n",
       " ((u'uBlock0@raymondhill.net', u'1.9.5rc0'), False, 153),\n",
       " ((u'{d10d0bf8-f5b5-c8b4-a8b2-2b9879e08c5d}', u'2.7.3.4198-beta'), True, 152),\n",
       " ((u'cpmanager@mozillaonline.com', u'2.49'), False, 151),\n",
       " ((u'thumbnailZoom@dadler.github.com', u'4.0'), True, 151),\n",
       " ((u'@react-devtools', u'0.15.3'), True, 150),\n",
       " ((u'devedition-theme-enabler@tim-addons.com', u'1.0.1'), False, 150),\n",
       " ((u'useragentoverrider@qixinglu.com', u'0.4.1'), False, 150),\n",
       " ((u'add-to-searchbox@maltekraus.de', u'2.9'), False, 149),\n",
       " ((u'jid1-ZAdIEUB7XOzOJw@jetpack', u'0.5.7'), True, 149),\n",
       " ((u'spdyindicator@chengsun.github.com', u'2.3'), True, 149),\n",
       " ((u'{158d7cb3-7039-4a75-8e0b-3bd0a464edd2}', u'2.7.1-signed.1-signed'),\n",
       "  True,\n",
       "  148),\n",
       " ((u'browsec@browsec.com', u'2.0.3'), True, 147),\n",
       " ((u's3download@statusbar', u'4.07'), True, 145),\n",
       " ((u'pavel.sherbakov@gmail.com', u'16.3.1'), True, 144),\n",
       " ((u'tabscope@xuldev.org', u'1.6.3'), False, 144),\n",
       " ((u'{170503FA-3349-4F17-BC86-001888A5C8E2}', u'6.0'), True, 144),\n",
       " ((u'{cd617375-6743-4ee8-bac4-fbf10f35729e}', u'2.9.6'), True, 144),\n",
       " ((u'tineye@ideeinc.com', u'1.2.2'), False, 143),\n",
       " ((u'87677a2c52b84ad3a151a4a72f5bd3c4@jetpack', u'8.678.567'), True, 142),\n",
       " ((u'jid0-k75TfRGfOXPHfEZmJ9cKu5eCgLc@jetpack', u'3.5.0'), True, 141),\n",
       " ((u'ols@f-secure.com', u'2.169.4239'), True, 141),\n",
       " ((u'pavel.sherbakov@gmail.com', u'17.1.1'), True, 141),\n",
       " ((u'commonfix@mozillaonline.com', u'0.13'), True, 140),\n",
       " ((u'jid1-dgnIBwQga0SIBw@jetpack', u'0.4.9'), False, 140),\n",
       " ((u'@hoxx-vpn', u'1.8.9'), True, 139),\n",
       " ((u'{097d3191-e6fa-4728-9826-b533d755359d}', u'0.7.30'), False, 138),\n",
       " ((u'forecastfox@s3_fix_version', u'2.4.8'), False, 135),\n",
       " ((u'jid0-XWJxt5VvCXkKzQK99PhZqAn7Xbg@jetpack', u'1.5.3'), False, 135),\n",
       " ((u'jid1-kyxEAcWua7BEKq@jetpack', u'0.1.7'), False, 135),\n",
       " ((u'uBlock0@raymondhill.net', u'1.9.5b4'), False, 135),\n",
       " ((u'{1A2D0EC4-75F5-4c91-89C4-3656F6E44B68}', u'0.6.3.1-signed.1-signed'),\n",
       "  True,\n",
       "  135),\n",
       " ((u'{aff87fa2-a58e-4edd-b852-0a20203c1e17}', u'0.13.1'), True, 133),\n",
       " ((u'jid1-MnnxcxisBPnSXQ-eff@jetpack', u'1.8.1'), True, 131),\n",
       " ((u'keefox@chris.tomlinson', u'1.6.3'), False, 131),\n",
       " ((u'rikaichan-jpen@polarcloud.com', u'2.01.160101'), False, 130),\n",
       " ((u'@testpilot-addon', u'0.8.5-tag-2016-08-12'), True, 129),\n",
       " ((u'jetpack-extension@dashlane.com', u'4.2.3'), False, 129),\n",
       " ((u'tabcounter@morac', u'1.9.9.3'), False, 129),\n",
       " ((u'mail.google.com@services.mozilla.org', u''), False, 128),\n",
       " ((u'printedit@DW-dev', u'17.2'), False, 128),\n",
       " ((u'support@lastpass.com', u'4.1.28a'), False, 128),\n",
       " ((u'public.proartex@gmail.com', u'1.1.2'), True, 126),\n",
       " ((u'firefox@zenmate.com', u'5.8.2'), True, 125),\n",
       " ((u'vdpure@link64', u'1.97.43'), True, 125),\n",
       " ((u'{00000f2a-7cde-4f20-83ed-434fcb420d71}', u'0.9.8.45'), True, 125),\n",
       " ((u'{02450914-cdd9-410f-b1da-db004e18c671}', u'0.99.04c'), True, 125),\n",
       " ((u'vk@sergeykolosov.mp', u'0.3.9.5'), True, 124),\n",
       " ((u'{455D905A-D37C-4643-A9E2-F6FEFAA0424A}', u'0.8.17.1-signed.1-signed'),\n",
       "  True,\n",
       "  124),\n",
       " ((u'_65Members_@download.fromdoctopdf.com', u'7.38.8.56246'), True, 123),\n",
       " ((u'newtabtools@darktrojan.net', u'73'), False, 123),\n",
       " ((u'{6BB5760D-F97E-421B-AF5B-8457A90C3CED}', u'2.6.1'), True, 123),\n",
       " ((u'jid0-UVAeBCfd34Kk5usS8A1CBiobvM8@jetpack', u'6.8.8.8'), False, 122),\n",
       " ((u'jid1-AVgCeF1zoVzMjA@jetpack', u'0.9.5.5'), True, 122),\n",
       " ((u'printedit@DW-dev', u'17.1'), False, 122),\n",
       " ((u'jid1-HAV2inXAnQPIeA@jetpack', u'1.6.3'), True, 121),\n",
       " ((u'jid1-P34HaABBBpOerQ@jetpack', u'0.2.1-signed.1-signed'), True, 121),\n",
       " ((u'{54BB9F3F-07E5-486c-9B39-C7398B99391C}', u'5.0.2016031501'), False, 120),\n",
       " ((u'{ea4637dc-e014-4c17-9c2c-879322d23268}', u'2.1.1-signed.1-signed'),\n",
       "  False,\n",
       "  120),\n",
       " ((u'VimFx@akhodakivskiy.github.com', u'0.18.1'), False, 119),\n",
       " ((u'paulsaintuzb@gmail.com', u'8.2.1'), True, 118),\n",
       " ((u'{9AA46F4F-4DC7-4c06-97AF-5035170634FE}', u'10.25'), True, 118),\n",
       " ((u'about-addons-memory@tn123.org', u'12'), False, 117),\n",
       " ((u'clickclean@hotcleaner.com', u'4.1.1-signed.1-signed'), True, 117),\n",
       " ((u'{c8d3bc80-0810-4d21-a2c2-be5f2b2832ac}', u'0.98'), True, 116),\n",
       " ((u'87677a2c52b84ad3a151a4a72f5bd3c4@jetpack', u'8.689.572'), True, 115),\n",
       " ((u'{9AA46F4F-4DC7-4c06-97AF-5035170634FE}', u'10.12'), False, 115),\n",
       " ((u'openwith@darktrojan.net', u'6.7.2'), False, 113),\n",
       " ((u'jid0-oFwt2ZcakHhkFl7Kp4lJn@jetpack', u'0.1.7'), True, 112),\n",
       " ((u'firebug@software.joehewitt.com', u'3.0.0-beta.3'), True, 111),\n",
       " ((u'feedly@devhd', u'16.0.528.1-signed.1-signed'), True, 110),\n",
       " ((u'jid1-KKzOGWgsW3Ao4Q@jetpack', u'2.5.9'), True, 110),\n",
       " ((u'extension@one-tab.com', u'1.17.0'), True, 109),\n",
       " ((u'vwof@drev.com', u'3.1.2'), False, 109),\n",
       " ((u'zoompage@DW-dev', u'15.1'), False, 109),\n",
       " ((u'{53A03D43-5363-4669-8190-99061B2DEBA5}', u'1.5.14'), True, 109),\n",
       " ((u'{a6fd85ed-e919-4a43-a5af-8da18bda539f}', u'2.9.1.1-signed'), True, 108),\n",
       " ((u'firefoxaddon@youtubeenhancer.com', u'4.1.3'), True, 107),\n",
       " ((u'xthunder@lshai.com', u'1.3.4.1-signed.1-signed'), True, 107),\n",
       " ((u'fbt@quicksaver', u'2.1.10'), False, 106),\n",
       " ((u'homeutil@yandex.ru', u'1.0.13'), False, 106),\n",
       " ((u'wx-assistant@mozillaonline.com', u'2.0.1'), True, 106),\n",
       " ((u'{068e178c-61a9-4a63-b74f-87404a6f5ea1}', u'2.0'), True, 106),\n",
       " ((u'ALone-live@ya.ru', u'1.4.11'), True, 104),\n",
       " ((u'jid1-fRvgLzKONCsPew@jetpack', u'0.2.6'), False, 104),\n",
       " ((u'mg.mail.yahoo.com@services.mozilla.org', u'1.0'), False, 104),\n",
       " ((u'tineye@ideeinc.com', u'1.2.1'), False, 104),\n",
       " ((u'yasearch@yandex.ru', u'8.20.2'), True, 104),\n",
       " ((u'{e4a8a97b-f2ed-450b-b12d-ee082ba24781}', u'3.8'), True, 104),\n",
       " ((u'AdBlockerLavaSoftFF@lavasoft.com', u'1.1.4'), True, 103),\n",
       " ((u'lazarus@interclue.com', u'2.3.1-signed.1-signed'), True, 102),\n",
       " ((u'jid1-uqwEAwSca3FXUo@jetpack', u'0.2.1'), False, 100),\n",
       " ((u'masspasswordreset@johnathan.nightingale', u'1.05.1-signed.1-signed'),\n",
       "  False,\n",
       "  100),\n",
       " ((u'newtaboverride@agenedia.com', u'3.0'), False, 100),\n",
       " ((u'omnibar@ajitk.com', u'0.7.28.20141004.1-signed.1-signed'), False, 100),\n",
       " ((u'zoompage@DW-dev', u'15.2'), False, 100),\n",
       " ((u'{11483926-db67-4190-91b1-ef20fcec5f33}', u'0.4.9.1'), False, 100),\n",
       " ((u'{75CEEE46-9B64-46f8-94BF-54012DE155F0}', u'0.4.15'), True, 100),\n",
       " ((u'jid1-i6dUGvCrz2WZu8@jetpack', u'0.1.7'), True, 99),\n",
       " ((u'jid1-mdjmA7if6lo8lA@jetpack', u'0.7.1-signed.1-signed'), True, 99),\n",
       " ((u'jid1-w4wG5nJhx4LJZr@jetpack', u'0.1.3'), False, 99),\n",
       " ((u'{b749fc7c-e949-447f-926c-3f4eed6accfe}', u'0.7.1.1.1-signed.1-signed'),\n",
       "  False,\n",
       "  99),\n",
       " ((u'ClassicThemeRestorer@ArisT2Noia4dev', u'1.5.6beta6'), False, 98),\n",
       " ((u'html5-video-everywhere@lejenome.me', u'0.3.4'), True, 98),\n",
       " ((u'save-as-pdf-ff@pdfcrowd.com', u'1.5.1-signed.1-signed'), True, 98),\n",
       " ((u'{4093c4de-454a-4329-8aff-c6b0b123c386}', u'0.8.14.1-signed.1-signed'),\n",
       "  False,\n",
       "  98),\n",
       " ((u'{dd3d7613-0246-469d-bc65-2a3cc1668adc}', u'1.1.8.1-signed.1-signed'),\n",
       "  True,\n",
       "  97),\n",
       " ((u'{02450914-cdd9-410f-b1da-db004e18c671}', u'0.99.05c'), True, 96),\n",
       " ((u'{66E978CD-981F-47DF-AC42-E3CF417C1467}', u'0.5.2'), True, 96),\n",
       " ((u'{73007fef-a6e0-47d3-b4e7-dfc116ed6f65}', u'1.15.1-signed.1-signed'),\n",
       "  False,\n",
       "  95),\n",
       " ((u'cpmanager@mozillaonline.com', u'2.48'), True, 94),\n",
       " ((u'jid1-dwtFBkQjb3SIQp@jetpack', u'0.3.4'), True, 94),\n",
       " ((u'{195A3098-0BD5-4e90-AE22-BA1C540AFD1E}', u'4.1.0.1-signed.1-signed'),\n",
       "  False,\n",
       "  94),\n",
       " ((u'{4cc4a13b-94a6-7568-370d-5f9de54a9c7f}', u'2.7.1-signed.1-signed'),\n",
       "  False,\n",
       "  94),\n",
       " ((u'colorPicker@colorPicker', u'3.0.1-signed.1-signed'), True, 93),\n",
       " ((u'fvdmedia@gmail.com', u'10.6.1'), False, 93),\n",
       " ((u'gmailnoads@mywebber.com', u'5.0.1'), True, 93),\n",
       " ((u'uBlock0@raymondhill.net', u'1.9.7b1'), False, 93),\n",
       " ((u'{02450914-cdd9-410f-b1da-db004e18c671}', u'0.99.06c'), True, 93),\n",
       " ((u'{ce7e73df-6a44-4028-8079-5927a588c948}', u'1.1.2.1-signed.1-signed'),\n",
       "  True,\n",
       "  93),\n",
       " ((u'dta3noaero@vano', u'1.0.1'), False, 92),\n",
       " ((u'jid1-wZqm19rJzRkZUA@jetpack', u'0.1.9'), False, 92),\n",
       " ((u'coba@mozilla.com.cn', u'1.0.32'), True, 91),\n",
       " ((u'firefox@browser-security.de', u'1.2.0'), False, 91),\n",
       " ((u'homepage@mail.ru', u'1.0.3'), False, 91),\n",
       " ((u'jid1-OoNOA6XBjznvLQ@jetpack', u'1.9.7'), True, 90),\n",
       " ((u'jid1-kps5PrGBNtzSLQ@jetpack', u'0.2.2'), False, 90),\n",
       " ((u'particle@particlecore.github.io', u'1.5.0'), True, 90),\n",
       " ((u'restartless.restart@erikvold.com', u'9.1-signed.1-signed'), False, 90),\n",
       " ((u'tiletabs@DW-dev', u'14.3'), False, 89),\n",
       " ((u'{4a313247-8330-4a81-948e-b79936516f78}', u'2.0.3.1-signed'), False, 89),\n",
       " ((u'jid0-dsq67mf5kjjhiiju2dfb6kk8dfw@jetpack', u'0.3.0'), False, 88),\n",
       " ((u'jid1-hDf2iQXGiUjzGQ@jetpack', u'2.3.0'), True, 88),\n",
       " ((u'proxyselector@mozilla.org', u'1.31.1-signed.1-signed'), True, 88),\n",
       " ((u'{0AA9101C-D3C1-4129-A9B7-D778C6A17F82}', u'2.09.1-signed'), True, 88),\n",
       " ((u'{a38384b3-2d1d-4f36-bc22-0f7ae402bcd7}', u'1.0.0.52'), False, 88),\n",
       " ((u'qwantcomforfirefox@jetpack', u'3.0.19'), True, 87),\n",
       " ((u'search@mail.ru', u'1.0.8'), False, 87),\n",
       " ((u'{37fa1426-b82d-11db-8314-0800200c9a66}', u'3.5.23'), True, 87),\n",
       " ((u'WebProtection@360safe.com', u'5.0.0.1005'), False, 86),\n",
       " ((u'jid0-SQnwtgW1b8BsMB5PLV5WScEDWOjw@jetpack', u'3.9.1'), False, 86),\n",
       " ((u'places-maintenance@bonardo.net', u'2.0.2'), False, 86),\n",
       " ((u'wappalyzer@crunchlabz.com', u'3.2.7'), True, 86),\n",
       " ((u'{F8A55C97-3DB6-4961-A81D-0DE0080E53CB}', u'1.0.10'), True, 86),\n",
       " ((u'jid1-5Fs7iTLscUaZBgwr@jetpack', u'1.0.12'), True, 85),\n",
       " ((u'superstart@enjoyfreeware.org', u'7.4.0.1-signed'), True, 85),\n",
       " ((u'{c4d362ec-1cff-4ca0-9031-99a8fad7995a}', u'24.2.0'), True, 85),\n",
       " ((u'abb@amazon.com', u'10.1607.15.512'), True, 84),\n",
       " ((u'exif_viewer@mozilla.doslash.org', u'2.00.1-signed.1-signed'), False, 84),\n",
       " ((u'jid1-KKzOGWgsW3Ao4Q@jetpack', u'2.6.0'), True, 84),\n",
       " ((u'places-maintenance@bonardo.net', u'2.0.1'), False, 84),\n",
       " ((u'{71328583-3CA7-4809-B4BA-570A85818FBB}', u'0.8.6.3.1-let-fixed'),\n",
       "  False,\n",
       "  84),\n",
       " ((u'{fa8476cf-a98c-4e08-99b4-65a69cb4b7d4}', u'1.7.6.1'), True, 84),\n",
       " ((u'mp4downloader@jeff.net', u'1.3.3.1-signed.1-signed'), True, 83),\n",
       " ((u'undoclosedtabsbutton@supernova00.biz', u'4.0.1'), False, 83),\n",
       " ((u'_4zMembers_@www.videodownloadconverter.com', u'7.38.8.56543'), True, 82),\n",
       " ((u'jid0-NgMDcEu2B88AbzZ6ulHodW9sJzA@jetpack', u'3.5.0'), True, 82),\n",
       " ((u'jid1-uqbSKwXpf2K6yl@jetpack', u'0.1.6'), True, 82),\n",
       " ((u'{DDC359D1-844A-42a7-9AA1-88A850A938A8}', u'3.0.1'), False, 82),\n",
       " ((u's3torrent@tornado', u'2.16'), True, 80),\n",
       " ((u'uriloader@pdf.js', u'1.0.277.1-signed.1-signed'), False, 80),\n",
       " ((u'{20a82645-c095-46ed-80e3-08825760534b}', u'1.3.1.1-signed'), False, 80),\n",
       " ((u'donottrackplus@abine.com', u'6.3.2143'), False, 79),\n",
       " ((u'firessh@nightlight.ws', u'0.94.10'), False, 79),\n",
       " ((u'{d49a148e-817e-4025-bee3-5d541376de3b}', u'3.1.1-signed.1-signed'),\n",
       "  True,\n",
       "  79),\n",
       " ((u'_65Members_@download.fromdoctopdf.com', u'7.102.10.4221'), True, 78),\n",
       " ((u'jid0-oFwt2ZcakHhkFl7Kp4lJn@jetpack', u'0.1.6'), False, 78),\n",
       " ((u'jid1-TSgSxBhncsPBWQ@jetpack', u'1.0.4'), True, 78),\n",
       " ((u'jid1-o2qEVrZ4t5FJWu@jetpack', u'0.1.3'), False, 78),\n",
       " ((u's3menu@wizard', u'5.03'), False, 78),\n",
       " ((u'{5e594888-3e8e-47da-b2c6-b0b545112f84}', u'1.3.18'), True, 78),\n",
       " ((u'{d10d0bf8-f5b5-c8b4-a8b2-2b9879e08c5d}', u'2.7.3.4197-beta'), True, 78),\n",
       " ((u'ClassicThemeRestorer@ArisT2Noia4dev', u'1.5.7beta3'), False, 77),\n",
       " ((u'jid0-hjBdm7jJii7llLkqacvGnd3gHge@jetpack', u'0.1.7'), True, 77),\n",
       " ((u'{902D2C4A-457A-4EF9-AD43-7014562929FF}', u'0.6.4'), True, 77),\n",
       " ((u'{ab4b5718-3998-4a2c-91ae-18a7c2db513e}', u'1.2.0.1-signed.1-signed'),\n",
       "  False,\n",
       "  77),\n",
       " ((u'fdm_ffext@freedownloadmanager.org', u'2.1.12'), False, 76),\n",
       " ((u'isreaditlater@ideashower.com', u'3.0.6.1-signed'), True, 76),\n",
       " ((u'jid1-6MGm94JnyY2VkA@jetpack', u'2.1.8'), True, 76),\n",
       " ((u'uBlock0@raymondhill.net', u'1.9.5b0'), False, 76),\n",
       " ((u'{f69e22c7-bc50-414a-9269-0f5c344cd94c}', u'48.3'), False, 76),\n",
       " ((u'{f759ca51-3a91-4dd1-ae78-9db5eee9ebf0}', u'8.2.0'), True, 76),\n",
       " ((u'jid1-5Fs7iTLscUaZBgwr@jetpack', u'1.0.14'), False, 75),\n",
       " ((u'jid1-uqwEAwSca3FXUo@jetpack', u'0.2.2'), False, 75),\n",
       " ((u'Profilist@jetpack', u'1.2.1-signed'), False, 74),\n",
       " ((u'TabAutoReload@schuzak.jp', u'1.0.17'), False, 74),\n",
       " ((u'contextsearch2@lwz.addons.mozilla.org', u'0.4.6.26'), False, 74),\n",
       " ((u'jid1-wZqm19rJzRkZUA@jetpack', u'0.2.0'), False, 74),\n",
       " ((u'light_plugin_D772DC8D6FAF43A29B25C4EBAA5AD1DE@kaspersky.com',\n",
       "   u'4.6.2-40'),\n",
       "  True,\n",
       "  74),\n",
       " ((u'uBlock0@raymondhill.net', u'1.9.5b1'), False, 74),\n",
       " ((u'{7f57cf46-4467-4c2d-adfa-0cba7c507e54}', u'4.0.1'), True, 74),\n",
       " ((u'{d37dc5d0-431d-44e5-8c91-49419370caa1}', u'4.2.3'), False, 74),\n",
       " ((u'ClassicThemeRestorer@ArisT2Noia4dev', u'1.5.7beta1'), False, 72),\n",
       " ((u'caa1-aDOiCAxFFMOVIX@jetpack', u'0.1.6'), True, 72),\n",
       " ((u'coba@mozilla.com.cn', u'1.0.33'), True, 72),\n",
       " ((u'websocketmonitor@getfirebug.com', u'0.6.3'), True, 72),\n",
       " ((u'6asa42dfa4784fsf368g@youtubeconverter.me', u'0.1'), True, 71),\n",
       " ((u'jid1-93WyvpgvxzGATw@jetpack', u'0.3.1-signed.1-signed'), True, 71),\n",
       " ((u'multifox@hultmann', u'3.2.3'), True, 71),\n",
       " ((u'donottrackplus@abine.com', u'6.4.2172'), False, 70),\n",
       " ((u'dta@downthemall.net', u'3.0.6.20160907.00h01m17s'), False, 70),\n",
       " ((u'hotspot-shield@anchorfree.com', u'1.2.85'), True, 70),\n",
       " ((u'jid1-fRvgLzKONCsPew@jetpack', u'0.2.7'), False, 70),\n",
       " ((u'mintrayr@tn123.ath.cx', u'1.3.2'), False, 70),\n",
       " ((u'yesscript@userstyles.org', u'2.2'), False, 70),\n",
       " ((u'{03B08592-E5B4-45ff-A0BE-C1D975458688}', u'1.1.1-signed.1-signed'),\n",
       "  True,\n",
       "  70),\n",
       " ((u'belgiumeid@eid.belgium.be', u'1.0.21'), False, 69),\n",
       " ((u'jid1-cwbvBTE216jjpg@jetpack', u'2.1.0.1-signed.1-signed'), False, 69),\n",
       " ((u'mousegesturessuite@lemon_juice.addons.mozilla.org', u'2.5.0'), False, 69),\n",
       " ((u'tmbepff@trendmicro.com', u'9.1.0.1089'), True, 69),\n",
       " ((u'{0c8fbd76-bdeb-4c52-9b24-d587ce7b9dc3}', u'3'), True, 69),\n",
       " ((u'{0e3fc079-afbb-4a00-87e5-9486062d0f9c}', u'0.1.7.1-signed.1-signed'),\n",
       "  False,\n",
       "  69),\n",
       " ((u'{D9A7CBEC-DE1A-444f-A092-844461596C4D}', u'7.7'), False, 69),\n",
       " ((u'avg@toolbar', u'4.3.5.160'), True, 68),\n",
       " ((u'cam@sdrocking.com', u'7.1'), False, 68),\n",
       " ((u'enhancerforyoutube@maximerf.addons.mozilla.org', u'2.0.14'), False, 68),\n",
       " ((u'fastdial@telega.phpnet.us', u'4.15.1'), True, 68),\n",
       " ((u'rikaichan-jpnames@polarcloud.com', u'2.01.160101'), False, 68),\n",
       " ((u'wappalyzer@crunchlabz.com', u'3.2.5'), True, 68),\n",
       " ((u'dave@tails.boum.org', u'0.2.7rc55'), False, 67),\n",
       " ((u'helper-sig@savefrom.net', u'6.57'), True, 67),\n",
       " ((u'jid1-AQqSMBYb0a8ADg@jetpack', u'1.5.1'), False, 67),\n",
       " ((u'zotero@chnm.gmu.edu', u'4.0.29.11'), False, 67),\n",
       " ((u'{7f57cf46-4467-4c2d-adfa-0cba7c507e54}', u'4.0.1rc'), True, 67),\n",
       " ((u'{EF522540-89F5-46b9-B6FE-1829E2B572C6}', u'8.8'), False, 67),\n",
       " ((u'@90B817C8-8A5C-413B-9DDD-B2C61ED6E79A', u'1.09'), True, 66),\n",
       " ((u'CSTBB@NArisT2_Noia4dev', u'1.5.2.2'), False, 66),\n",
       " ((u'FasterFox_Lite@BigRedBrent', u'3.9.9Lite.1-signed.1-signed'), False, 66),\n",
       " ((u'amcontextmenu@loucypher', u'0.4.2.1-signed.1-signed'), True, 66),\n",
       " ((u'imageblock@hemantvats.com', u'3.1'), True, 66),\n",
       " ((u'particle@particlecore.github.io', u'1.5.1'), False, 66),\n",
       " ((u'rest-easy@quickmediasolutions.com', u'0.3.1.1-signed'), False, 66),\n",
       " ((u'{176c8b66-7fc3-4af5-a86b-d0207c456b14}', u'1.0'), True, 66),\n",
       " ((u'{c6448328-31f7-4b12-a2e0-5c39d0290307}', u'3.4.1-signed.1-signed'),\n",
       "  False,\n",
       "  66),\n",
       " ((u'nimbusscreencaptureff@everhelper.me', u'8.5.3'), True, 65),\n",
       " ((u'vb@yandex.ru', u'2.27.1'), True, 65),\n",
       " ((u'wrc@avast.com', u'10.3.3.39'), True, 65),\n",
       " ((u'{D4DD63FA-01E4-46a7-B6B1-EDAB7D6AD389}', u'0.9.10.1-signed.1-signed'),\n",
       "  True,\n",
       "  65),\n",
       " ((u'{cd617372-6743-4ee4-bac4-fbf60f35719e}', u'2.0.1-signed.1-signed'),\n",
       "  True,\n",
       "  65),\n",
       " ((u'UIEnhancer@girishsharma', u'5.3'), True, 64),\n",
       " ((u'firefox@tampermonkey.net', u'4.1.5259'), False, 64),\n",
       " ((u'gmailnoads@mywebber.com', u'5.0'), True, 64),\n",
       " ((u'nishan.naseer.googimagesearch@gmail.com', u'0.5.1-signed.1-signed'),\n",
       "  True,\n",
       "  64),\n",
       " ((u'{5F590AA2-1221-4113-A6F4-A4BB62414FAC}',\n",
       "   u'0.45.8.20130519.3.1-signed.1-signed'),\n",
       "  True,\n",
       "  64),\n",
       " ((u'{987311C6-B504-4aa2-90BF-60CC49808D42}', u'3.1-signed.1-signed'),\n",
       "  False,\n",
       "  64),\n",
       " ((u'{f69e22c7-bc50-414a-9269-0f5c344cd94c}', u'48.4'), False, 64),\n",
       " ((u'FavIconReloader@mozilla.org', u'0.8.1-signed'), False, 63),\n",
       " ((u'bookmarkdeduplicator@foxhatdev', u'1.3.1.1-signed.1-signed'), False, 63),\n",
       " ((u'multilinksplus@hugsmile.eu', u'3.6.6'), True, 63),\n",
       " ((u'uBlock0@raymondhill.net', u'1.9.5b2'), False, 63),\n",
       " ((u'universal-search@mozilla.com', u'1.0.9'), False, 63),\n",
       " ((u'yslow@yahoo-inc.com', u'3.1.8.1-signed.1-signed'), True, 63),\n",
       " ((u'cookiemgr@jayapal.com', u'5.12'), False, 62),\n",
       " ((u'jid1-AQqSMBYb0a8ADg@jetpack', u'1.5.2'), False, 62),\n",
       " ((u'jsdeobfuscator@adblockplus.org', u'2.0.3'), False, 62),\n",
       " ((u'{210249CE-F888-11DD-B868-4CB456D89593}', u'4.1.1'), False, 62),\n",
       " ((u'abhere2@moztw.org', u'48.0.20160817'), False, 61),\n",
       " ((u'osb@quicksaver', u'1.6.13'), False, 61),\n",
       " ((u'smarterwiki@wikiatic.com', u'5.2.1.1-signed.1-signed'), False, 61),\n",
       " ((u'stefanvandamme@stefanvd.net', u'3.2.0.16'), False, 61),\n",
       " ((u'universal-search@mozilla.com', u'1.0.8'), False, 61),\n",
       " ((u'{45d8ff86-d909-11db-9705-005056c00008}', u'1.3.0.5'), False, 61),\n",
       " ((u'{8b86149f-01fb-4842-9dd8-4d7eb02fd055}', u'0.26.1-signed.1-signed'),\n",
       "  True,\n",
       "  61),\n",
       " ((u'adonis.cuhk@gmail.com', u'1.8.9.1-signed.1-signed'), False, 60),\n",
       " ((u'googletestNT@mozillaonline.com', u'0.10.43'), False, 60),\n",
       " ((u'jid1-sNL73VCI4UB0Fw@jetpack', u'2.1.4'), True, 60),\n",
       " ((u'stefanvandamme@stefanvd.net', u'3.2.0.15'), False, 60),\n",
       " ((u'{891f0410-aaa2-11e0-9f1c-0800200c9a66}', u'2.15'), False, 60),\n",
       " ((u'clipconverter@clipconverter.cc', u'1.5.2'), True, 59),\n",
       " ((u'formhistory@yahoo.com', u'1.4.0.6'), True, 59),\n",
       " ((u'tinyjsdebugger@enigmail.net', u'1.1.5'), False, 59),\n",
       " ((u'{77b819fa-95ad-4f2c-ac7c-486b356188a9}',\n",
       "   u'4.0.20130422.1-signed.1-signed'),\n",
       "  True,\n",
       "  59),\n",
       " ((u'{AE93811A-5C9A-4d34-8462-F7B864FC4696}', u'4.21'), False, 59),\n",
       " ((u'{EF522540-89F5-46b9-B6FE-1829E2B572C6}', u'8.9'), False, 59),\n",
       " ((u'{e4a8a97b-f2ed-450b-b12d-ee082ba24781}', u'3.9beta2'), False, 59),\n",
       " ((u'{f13b157f-b174-47e7-a34d-4815ddfdfeb8}', u'0.9.89.1-signed.1-signed'),\n",
       "  False,\n",
       "  59),\n",
       " ((u'CanvasBlocker@kkapsner.de', u'0.3.1-Release'), False, 58),\n",
       " ((u'ClickToPlayPerElement@uaSad.addons.mozilla.org', u'0.3.3'), False, 58),\n",
       " ((u'NoiaScrollbars@ArisT2_Noia4dev', u'1.2.5.1'), False, 58),\n",
       " ((u'jid1-YdiFiTEkQgInxA@jetpack', u'7.3'), True, 58),\n",
       " ((u'readable@evernote.com', u'10.2.1.7.1-signed'), True, 58),\n",
       " ((u'search4baidu@baidu.com', u'1.0.5.1-signed.1-signed'), False, 58),\n",
       " ((u'caa1-aDOiCAxFFMOVIX@jetpack', u'0.1.7'), True, 57),\n",
       " ((u'restartbutton@strk.jp', u'0.1.5.1-signed.1-signed'), False, 57),\n",
       " ((u'{3e9a3920-1b27-11da-8cd6-0800200c9a66}', u'3.11'), False, 57),\n",
       " ((u'{b9db16a4-6edc-47ec-a1f4-b86292ed211d}', u'6.0.0a10'), False, 57),\n",
       " ((u'ClassicThemeRestorer@ArisT2Noia4dev', u'1.5.7beta2'), False, 56),\n",
       " ((u'LDSI_plashcor@gmail.com', u'1.1.0.3'), True, 56),\n",
       " ((u'dta@downthemall.net', u'3.0.1.20160901.00h01m31s'), False, 56),\n",
       " ((u'vlcplaylist@helgatauscher.de', u'0.8.1-signed.1-signed'), False, 56),\n",
       " ((u'{d48a39ba-8f80-4fce-8ee1-bc710561c55d}', u'3.1.0.1-signed.1-signed'),\n",
       "  False,\n",
       "  56),\n",
       " ((u'{daf44bf7-a45e-4450-979c-91cf07434c3d}', u'2.0.5'), False, 56),\n",
       " ((u'DailymotionVideoDownloader@PeterOlayev.com', u'1.0.6.1-signed.1-signed'),\n",
       "  True,\n",
       "  55),\n",
       " ((u'VacuumPlacesImproved@lultimouomo-gmail.com', u'1.2.1-signed.1-signed'),\n",
       "  False,\n",
       "  55),\n",
       " ((u'copyplaintext@teo.pl', u'1.6'), False, 55),\n",
       " ((u'dta@downthemall.net', u'3.0.1.20160831.00h01m33s'), False, 55),\n",
       " ((u'jid0-edalmuivkozlouyij0lpdx548bc@jetpack', u'1.16.22'), True, 55),\n",
       " ((u'quicksearch@yandex.ru', u'1.0.13'), False, 55),\n",
       " ((u'{54e46280-0211-11e3-b778-0800200c9a66}', u'0.2'), False, 55),\n",
       " ((u'{b9db16a4-6edc-47ec-a1f4-b86292ed211d}', u'6.0.1a4'), False, 55),\n",
       " ((u'DuplicateInTabContext@schuzak.jp', u'1.0.11'), False, 54),\n",
       " ((u'LVD-SAE@iacsearchandmedia.com', u'8.5'), True, 54),\n",
       " ((u'avg@toolbar', u'4.3.4.122'), False, 54),\n",
       " ((u'dta@downthemall.net', u'3.0.5.20160905.00h00m59s'), False, 54),\n",
       " ((u'openbookmarkintab@piro.sakura.ne.jp', u'2.0.2016021001'), False, 54),\n",
       " ((u'ramback@pavlov.net', u'1.0.1-signed.1-signed'), False, 54),\n",
       " ((u'{a95d8332-e4b4-6e7f-98ac-20b733364387}', u'1.0.5'), True, 54),\n",
       " ((u'{b1df372d-8b32-4c7d-b6b4-9c5b78cf6fb1}', u'0.87.1-signed.1-signed'),\n",
       "  True,\n",
       "  54),\n",
       " ((u'{f36c6cd1-da73-491d-b290-8fc9115bfa55}',\n",
       "   u'3.0.9.1-signed.1-let-fixed.1-signed'),\n",
       "  True,\n",
       "  54),\n",
       " ((u'@DownloadManager', u'0.2.1'), True, 53),\n",
       " ((u'_ceMembers_@free.easypdfcombine.com', u'7.38.8.46224'), True, 53),\n",
       " ((u'jid0-RwTySlpoKU14fw7yw2AflOAihhA@jetpack', u'2.0.4'), False, 53),\n",
       " ((u'jid1-wkCmfgboni3B1Q@jetpack', u'1.5.0'), True, 53),\n",
       " ((u'openlinkintab@piro.sakura.ne.jp', u'1.0.2016011401'), False, 53),\n",
       " ((u'{b9db16a4-6edc-47ec-a1f4-b86292ed211d}', u'6.0.1a1'), False, 53),\n",
       " ((u'FireXPath@pierre.tholence.com', u'0.9.7.1.1-signed.1-signed'), False, 52),\n",
       " ((u'autofillForms@blueimp.net', u'1.1.4'), True, 52),\n",
       " ((u'cliqz@cliqz.com', u'2.8.2'), False, 52),\n",
       " ((u'jid1-D7momAzRw417Ag@jetpack', u'4.5.13'), True, 52),\n",
       " ((u's3menu@wizard', u'5.01'), True, 52),\n",
       " ((u'{4DC70064-89E2-4a55-8FC6-E8CDEAE3618C}', u'0.7.7.1-signed.1-signed'),\n",
       "  True,\n",
       "  52),\n",
       " ((u'dta@downthemall.net', u'3.0.3.20160902.00h00m35s'), False, 51),\n",
       " ((u'printPages2Pdf@reinhold.ripper', u'0.1.9.3.1-signed'), True, 51),\n",
       " ((u'treestyletab@piro.sakura.ne.jp', u'0.18.2016090601'), False, 51),\n",
       " ((u'{e8deb9e5-5688-4655-838a-b7a121a9f16e}', u'48.2'), True, 51),\n",
       " ((u'firequery@binaryage.com', u'2.0.4'), True, 50),\n",
       " ((u'quicklaunch@mozillaonline.com', u'1.1.7'), False, 50),\n",
       " ((u'uBlock0@raymondhill.net', u'1.9.5b3'), False, 50),\n",
       " ((u'unplug@compunach', u'2.059'), False, 50),\n",
       " ((u'yetanothersmoothscrolling@kataho', u'3.2.6'), False, 50),\n",
       " ((u'{22119944-ED35-4ab1-910B-E619EA06A115}', u'7.9.21.1'), False, 50),\n",
       " ((u'{22870005-adef-4c9d-ae36-d0e1f2f27e5a}', u'0.4.0.9.1.1-signed.1-signed'),\n",
       "  True,\n",
       "  50),\n",
       " ((u'{ac2cfa60-bc96-11e0-962b-0800200c9a66}', u'5.5'), False, 50),\n",
       " ((u'{f3bd3dd2-2888-44c5-91a2-2caeb33fb898}', u'48.2'), True, 50)]"
      ]
     },
     "execution_count": 26,
     "metadata": {},
     "output_type": "execute_result"
    }
   ],
   "source": [
    "shimUsageFiltered"
   ]
  },
  {
   "cell_type": "markdown",
   "metadata": {},
   "source": [
    "### CPOWs"
   ]
  },
  {
   "cell_type": "markdown",
   "metadata": {},
   "source": [
    "Count CPOW usage, recorded in the `PERF_MONITORING_SLOW_ADDON_CPOW_US` histogram as time in microseconds spent by an add-on blocking the main loop using a CPOW.\n",
    "\n",
    "The metric currently computed is the average time spent per CPOW usage occurrence, multiplied by the number of telemetry sessions that had a recorded histogram.\n",
    "\n",
    "Note that in many cases an add-on has an entry in the histogram, but it only has observations with the value 0. It appears that the histogram is recorded at the same time as `PERF_MONITORING_SLOW_ADDON_JANK_US` by the [AddonWatcher](https://dxr.mozilla.org/mozilla-central/source/toolkit/components/perfmonitoring/AddonWatcher.jsm#128)."
   ]
  },
  {
   "cell_type": "code",
   "execution_count": null,
   "metadata": {
    "collapsed": false
   },
   "outputs": [],
   "source": [
    "def processForHist(d):\n",
    "    \"\"\" Return a list of ((ID, version), histogram) for each add-on with a CPOW histogram entry. \"\"\"\n",
    "    def getVersion(addon):\n",
    "        \"\"\" Find the currently installed version for the given add-on ID. \"\"\"\n",
    "        for addonv in d['addons']:\n",
    "            if addonv[0] == addon:\n",
    "                return addonv[1] if len(addonv) == 2 else None\n",
    "    return [ ((addon, getVersion(addon)), h) for (addon, h) in d['cpow'].items() ]\n",
    "\n",
    "cpowHists = bySession.flatMap(lambda (id, d): processForHist(d))"
   ]
  },
  {
   "cell_type": "code",
   "execution_count": null,
   "metadata": {
    "collapsed": false
   },
   "outputs": [],
   "source": [
    "cpowHists.take(1)"
   ]
  },
  {
   "cell_type": "code",
   "execution_count": null,
   "metadata": {
    "collapsed": false
   },
   "outputs": [],
   "source": [
    "def fixHist((id, h)):\n",
    "    \"\"\" Summarize histogram info, together with a count of subsessions ('hits') it occurs in. \"\"\"\n",
    "    ## Number of recorded values in a subsession.\n",
    "    n = sum(h['values'].values())\n",
    "    ## Total number of microseconds across the subsession.\n",
    "    s = h['sum']\n",
    "    vs = { int(k): v for (k, v) in h['values'].items() }\n",
    "    return (id, {'n': n, 'sum': s, 'values': vs, 'hits': 1})\n",
    "\n",
    "def combineHists(h1, h2):\n",
    "    \"\"\" Merge histograms and counts. \"\"\"\n",
    "    vs = h1['values']\n",
    "    for k, v in h2['values'].items():\n",
    "        vs[k] = vs.get(k, 0) + v\n",
    "    return {'n': h1['n'] + h2['n'],\n",
    "            'sum': h1['sum'] + h2['sum'],\n",
    "            'values': vs,\n",
    "            'hits': h1['hits']+h2['hits']}\n",
    "\n",
    "cpows = cpowHists.map(fixHist).reduceByKey(combineHists)"
   ]
  },
  {
   "cell_type": "code",
   "execution_count": null,
   "metadata": {
    "collapsed": false
   },
   "outputs": [],
   "source": [
    "## Remove add-ons with CPOWs recorded in 50 or fewer subsessions.\n",
    "cpowsFiltered = cpows.filter(lambda (addon, d): d['hits'] > 50)"
   ]
  },
  {
   "cell_type": "code",
   "execution_count": null,
   "metadata": {
    "collapsed": false
   },
   "outputs": [],
   "source": [
    "## Sort by decreasing average CPOW usage time per occurrence.\n",
    "## Should it just be d['sum'] / d['n']?\n",
    "cpowsSorted = cpowsFiltered.map(lambda (addon, d): (d['sum']/d['n']*d['hits'], (addon, d))).sortByKey(False)"
   ]
  },
  {
   "cell_type": "code",
   "execution_count": null,
   "metadata": {
    "collapsed": false
   },
   "outputs": [],
   "source": [
    "cpowsSimple = cpowsSorted.map(lambda (avg, (id, d)): (id, avg))"
   ]
  },
  {
   "cell_type": "code",
   "execution_count": null,
   "metadata": {
    "collapsed": true
   },
   "outputs": [],
   "source": [
    "cpowTimes = cpowsSimple.collect()"
   ]
  },
  {
   "cell_type": "code",
   "execution_count": null,
   "metadata": {
    "collapsed": false
   },
   "outputs": [],
   "source": [
    "try:\n",
    "    output = open('output/cpow-data.json', 'w')\n",
    "    json.dump(cpowTimes, output)\n",
    "    output.close()\n",
    "except:\n",
    "    pass\n",
    "\n",
    "try:\n",
    "    output = open('cpow-data.json', 'w')\n",
    "    json.dump(cpowTimes, output)\n",
    "    output.close()\n",
    "except:\n",
    "    pass"
   ]
  },
  {
   "cell_type": "code",
   "execution_count": null,
   "metadata": {
    "collapsed": false,
    "scrolled": true
   },
   "outputs": [],
   "source": [
    "cpowTimes"
   ]
  },
  {
   "cell_type": "code",
   "execution_count": null,
   "metadata": {
    "collapsed": true
   },
   "outputs": [],
   "source": []
  }
 ],
 "metadata": {
  "kernelspec": {
   "display_name": "Python 2",
   "language": "python",
   "name": "python2"
  },
  "language_info": {
   "codemirror_mode": {
    "name": "ipython",
    "version": 2
   },
   "file_extension": ".py",
   "mimetype": "text/x-python",
   "name": "python",
   "nbconvert_exporter": "python",
   "pygments_lexer": "ipython2",
   "version": "2.7.11"
  }
 },
 "nbformat": 4,
 "nbformat_minor": 0
}
